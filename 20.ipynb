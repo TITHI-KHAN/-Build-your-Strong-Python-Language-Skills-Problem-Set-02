{
  "nbformat": 4,
  "nbformat_minor": 0,
  "metadata": {
    "colab": {
      "provenance": []
    },
    "kernelspec": {
      "name": "python3",
      "display_name": "Python 3"
    },
    "language_info": {
      "name": "python"
    }
  },
  "cells": [
    {
      "cell_type": "markdown",
      "source": [
        "**20. Write a function that takes a list of strings as input and returns the count of words in the list.**"
      ],
      "metadata": {
        "id": "ITmWlMwm7UMd"
      }
    },
    {
      "cell_type": "code",
      "source": [
        "def count_words(string_list):\n",
        "    word_count = 0\n",
        "\n",
        "    for string in string_list:\n",
        "        words = string.split()\n",
        "        word_count += len(words)\n",
        "\n",
        "    return word_count\n",
        "\n",
        "# Take user input for the list of strings\n",
        "user_input = input(\"Enter a list of strings separated by spaces: \")\n",
        "string_list = user_input.split()\n",
        "\n",
        "# Count the words in the list\n",
        "total_words = count_words(string_list)\n",
        "\n",
        "# Print the count of words\n",
        "print(\"Total words:\", total_words)\n"
      ],
      "metadata": {
        "colab": {
          "base_uri": "https://localhost:8080/"
        },
        "id": "2IHk5QoJ7Wax",
        "outputId": "9a405a4c-8718-4529-cab6-629606ea3f4a"
      },
      "execution_count": 34,
      "outputs": [
        {
          "output_type": "stream",
          "name": "stdout",
          "text": [
            "Enter a list of strings separated by spaces: Hello world, how are you today?\n",
            "Total words: 6\n"
          ]
        }
      ]
    }
  ]
}