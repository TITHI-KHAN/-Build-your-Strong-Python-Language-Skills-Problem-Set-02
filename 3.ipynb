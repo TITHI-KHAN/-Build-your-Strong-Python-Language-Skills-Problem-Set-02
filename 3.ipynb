{
  "nbformat": 4,
  "nbformat_minor": 0,
  "metadata": {
    "colab": {
      "provenance": []
    },
    "kernelspec": {
      "name": "python3",
      "display_name": "Python 3"
    },
    "language_info": {
      "name": "python"
    }
  },
  "cells": [
    {
      "cell_type": "markdown",
      "source": [
        "**3. Write a function to check if a given number is prime or not.**"
      ],
      "metadata": {
        "id": "ITmWlMwm7UMd"
      }
    },
    {
      "cell_type": "code",
      "source": [
        "def is_prime(number):\n",
        "    if number <= 1:\n",
        "        return False\n",
        "\n",
        "    for i in range(2, int(number ** 0.5) + 1): #This creates a range of numbers starting from 2 and ending at the square root of the given number, plus 1. The int(number ** 0.5) expression calculates the square root of the number and converts it to an integer using int(). Adding 1 ensures that the upper limit of the range is included.\n",
        "        if number % i == 0: #This checks if the given number is divisible by the current value of i without any remainder. In other words, it checks if the number is evenly divisible by i. If this condition is true for any i within the range, it means the number is not prime.\n",
        "            return False #the number is not prime\n",
        "\n",
        "    return True #the number is prime.\n",
        "\n",
        "# Take user input for the number\n",
        "num = int(input(\"Enter a number: \"))\n",
        "\n",
        "# Check if the number is prime\n",
        "result = is_prime(num)\n",
        "\n",
        "if result:\n",
        "    print(\"The number is prime.\")\n",
        "else:\n",
        "    print(\"The number is not prime.\")\n"
      ],
      "metadata": {
        "colab": {
          "base_uri": "https://localhost:8080/"
        },
        "id": "2IHk5QoJ7Wax",
        "outputId": "bb0f2423-6a4a-4bb1-ef01-afd80a354783"
      },
      "execution_count": 5,
      "outputs": [
        {
          "output_type": "stream",
          "name": "stdout",
          "text": [
            "Enter a number: 17\n",
            "The number is prime.\n"
          ]
        }
      ]
    }
  ]
}