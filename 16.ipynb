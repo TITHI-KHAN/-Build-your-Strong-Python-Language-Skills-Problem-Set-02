{
  "nbformat": 4,
  "nbformat_minor": 0,
  "metadata": {
    "colab": {
      "provenance": []
    },
    "kernelspec": {
      "name": "python3",
      "display_name": "Python 3"
    },
    "language_info": {
      "name": "python"
    }
  },
  "cells": [
    {
      "cell_type": "markdown",
      "source": [
        "**16. Write a function to check if two strings are anagrams of each other.**"
      ],
      "metadata": {
        "id": "ITmWlMwm7UMd"
      }
    },
    {
      "cell_type": "code",
      "source": [
        "def check_anagram(string1, string2):\n",
        "    # Remove whitespace and convert to lowercase\n",
        "    string1 = string1.replace(\" \", \"\").lower() #will remove whitespace and convert them to lowercase using the replace() and lower() string methods\n",
        "    string2 = string2.replace(\" \", \"\").lower() #will remove whitespace and convert them to lowercase using the replace() and lower() string methods\n",
        "\n",
        "    # Check if the sorted strings are equal\n",
        "    return sorted(string1) == sorted(string2)\n",
        "\n",
        "# Take user input for the two strings\n",
        "user_input1 = input(\"Enter the first string: \")\n",
        "user_input2 = input(\"Enter the second string: \")\n",
        "\n",
        "# Check if the strings are anagrams\n",
        "is_anagram = check_anagram(user_input1, user_input2)\n",
        "\n",
        "# Print the result\n",
        "if is_anagram:\n",
        "    print(\"The two strings are anagrams of each other.\")\n",
        "else:\n",
        "    print(\"The two strings are not anagrams.\")\n"
      ],
      "metadata": {
        "colab": {
          "base_uri": "https://localhost:8080/"
        },
        "id": "2IHk5QoJ7Wax",
        "outputId": "e8cbe64e-3266-464f-d23b-a9430baa80d0"
      },
      "execution_count": 29,
      "outputs": [
        {
          "output_type": "stream",
          "name": "stdout",
          "text": [
            "Enter the first string: listen\n",
            "Enter the second string: silent\n",
            "The two strings are anagrams of each other.\n"
          ]
        }
      ]
    }
  ]
}