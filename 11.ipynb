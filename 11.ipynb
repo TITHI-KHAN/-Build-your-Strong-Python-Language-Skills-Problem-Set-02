{
  "nbformat": 4,
  "nbformat_minor": 0,
  "metadata": {
    "colab": {
      "provenance": []
    },
    "kernelspec": {
      "name": "python3",
      "display_name": "Python 3"
    },
    "language_info": {
      "name": "python"
    }
  },
  "cells": [
    {
      "cell_type": "markdown",
      "source": [
        "**11. Write a function to calculate the area of a circle given its radius.**"
      ],
      "metadata": {
        "id": "ITmWlMwm7UMd"
      }
    },
    {
      "cell_type": "code",
      "source": [
        "import math\n",
        "\n",
        "def calculate_circle_area(radius):\n",
        "    area = math.pi * radius**2\n",
        "    return area\n",
        "\n",
        "# Take user input for the radius of the circle\n",
        "user_input = input(\"Enter the radius of the circle: \")\n",
        "radius = float(user_input)\n",
        "\n",
        "# Calculate the area of the circle\n",
        "circle_area = calculate_circle_area(radius)\n",
        "\n",
        "# Print the area of the circle\n",
        "print(\"The area of the circle is:\", circle_area)\n"
      ],
      "metadata": {
        "colab": {
          "base_uri": "https://localhost:8080/"
        },
        "id": "2IHk5QoJ7Wax",
        "outputId": "2f8e757d-8649-4ba9-92e2-e484cb2e1206"
      },
      "execution_count": 23,
      "outputs": [
        {
          "output_type": "stream",
          "name": "stdout",
          "text": [
            "Enter the radius of the circle: 3.5\n",
            "The area of the circle is: 38.48451000647496\n"
          ]
        }
      ]
    }
  ]
}