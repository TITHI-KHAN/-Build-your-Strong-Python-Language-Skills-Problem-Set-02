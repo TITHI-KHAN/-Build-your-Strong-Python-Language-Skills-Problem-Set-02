{
  "nbformat": 4,
  "nbformat_minor": 0,
  "metadata": {
    "colab": {
      "provenance": []
    },
    "kernelspec": {
      "name": "python3",
      "display_name": "Python 3"
    },
    "language_info": {
      "name": "python"
    }
  },
  "cells": [
    {
      "cell_type": "markdown",
      "source": [
        "**21. Write a function to remove all duplicates from a given list.**"
      ],
      "metadata": {
        "id": "ITmWlMwm7UMd"
      }
    },
    {
      "cell_type": "code",
      "source": [
        "def remove_duplicates(input_list):\n",
        "    unique_list = list(set(input_list))\n",
        "    return unique_list\n",
        "\n",
        "# Take user input for the list of elements\n",
        "user_input = input(\"Enter a list of elements separated by spaces: \")\n",
        "input_list = user_input.split()\n",
        "\n",
        "# Remove duplicates from the list\n",
        "unique_list = remove_duplicates(input_list)\n",
        "\n",
        "# Print the list with duplicates removed\n",
        "print(\"List with duplicates removed:\", unique_list)\n",
        "\n",
        "#it will split the input into a list using the split() method.\n",
        "#Then, it creates a set from the list, which automatically removes duplicates due to the nature of sets.\n",
        "#Finally, it converts the set back to a list using the list() function and returns the resulting list with duplicates removed."
      ],
      "metadata": {
        "colab": {
          "base_uri": "https://localhost:8080/"
        },
        "id": "2IHk5QoJ7Wax",
        "outputId": "97768e11-6960-432d-9b12-cff77833b6c5"
      },
      "execution_count": 35,
      "outputs": [
        {
          "output_type": "stream",
          "name": "stdout",
          "text": [
            "Enter a list of elements separated by spaces: 4 3 2 5 3 8 1 2 3\n",
            "List with duplicates removed: ['8', '4', '1', '5', '3', '2']\n"
          ]
        }
      ]
    },
    {
      "cell_type": "code",
      "source": [
        "#OTHER WAY BY PRESERVING ORDER\n",
        "\n",
        "def remove_duplicates(input_list):\n",
        "    unique_list = []\n",
        "    seen = set()\n",
        "\n",
        "    for element in input_list:\n",
        "        if element not in seen:\n",
        "            unique_list.append(element)\n",
        "            seen.add(element)\n",
        "\n",
        "    return unique_list\n",
        "\n",
        "# Take user input for the list of elements\n",
        "user_input = input(\"Enter a list of elements separated by spaces: \")\n",
        "input_list = user_input.split()\n",
        "\n",
        "# Remove duplicates from the list\n",
        "unique_list = remove_duplicates(input_list)\n",
        "\n",
        "# Print the list with duplicates removed\n",
        "print(\"List with duplicates removed:\", unique_list)\n"
      ],
      "metadata": {
        "colab": {
          "base_uri": "https://localhost:8080/"
        },
        "id": "ghowwgfie3V1",
        "outputId": "9a6d66df-5525-4347-e363-d4dacca2d909"
      },
      "execution_count": 36,
      "outputs": [
        {
          "output_type": "stream",
          "name": "stdout",
          "text": [
            "Enter a list of elements separated by spaces: 4 3 2 5 3 8 1 2 3\n",
            "List with duplicates removed: ['4', '3', '2', '5', '8', '1']\n"
          ]
        }
      ]
    }
  ]
}