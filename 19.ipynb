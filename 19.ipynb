{
  "nbformat": 4,
  "nbformat_minor": 0,
  "metadata": {
    "colab": {
      "provenance": []
    },
    "kernelspec": {
      "name": "python3",
      "display_name": "Python 3"
    },
    "language_info": {
      "name": "python"
    }
  },
  "cells": [
    {
      "cell_type": "markdown",
      "source": [
        "**19. Write a function to check if a given number is a perfect square.**"
      ],
      "metadata": {
        "id": "ITmWlMwm7UMd"
      }
    },
    {
      "cell_type": "code",
      "source": [
        "def check_perfect_square(number):\n",
        "    # Check if the square root of the number is an integer\n",
        "    if number >= 0 and int(number ** 0.5) ** 2 == number:\n",
        "        return True\n",
        "    else:\n",
        "        return False\n",
        "\n",
        "#number ** 0.5 calculates the square root of the number.This is achieved by raising the number to the power of 0.5.\n",
        "#(int(number ** 0.5)) ** 2 squares the integer value of the square root. This is achieved by raising the integer value to the power of 2.\n",
        "#The expression (int(number ** 0.5)) ** 2 == number checks if the squared value of the integer square root is equal to the original number. If the comparison is true, it means that the number is a perfect square.\n",
        "\n",
        "# Take user input for the number\n",
        "user_input = input(\"Enter a number: \")\n",
        "number = float(user_input)\n",
        "\n",
        "# Check if the number is a perfect square\n",
        "is_perfect_square = check_perfect_square(number)\n",
        "\n",
        "# Print the result\n",
        "if is_perfect_square:\n",
        "    print(\"The number is a perfect square.\")\n",
        "else:\n",
        "    print(\"The number is not a perfect square.\")\n"
      ],
      "metadata": {
        "colab": {
          "base_uri": "https://localhost:8080/"
        },
        "id": "2IHk5QoJ7Wax",
        "outputId": "39fbd2b7-12b9-4142-c1d6-55dc94cd9d4f"
      },
      "execution_count": 33,
      "outputs": [
        {
          "output_type": "stream",
          "name": "stdout",
          "text": [
            "Enter a number: 25\n",
            "The number is a perfect square.\n"
          ]
        }
      ]
    }
  ]
}