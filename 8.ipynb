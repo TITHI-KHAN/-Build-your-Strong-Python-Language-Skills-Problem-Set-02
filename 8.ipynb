{
  "nbformat": 4,
  "nbformat_minor": 0,
  "metadata": {
    "colab": {
      "provenance": []
    },
    "kernelspec": {
      "name": "python3",
      "display_name": "Python 3"
    },
    "language_info": {
      "name": "python"
    }
  },
  "cells": [
    {
      "cell_type": "markdown",
      "source": [
        "**8. Write a function that takes a list of numbers as input and returns a new list with only the even numbers.**"
      ],
      "metadata": {
        "id": "ITmWlMwm7UMd"
      }
    },
    {
      "cell_type": "code",
      "source": [
        "def get_even_numbers(numbers):\n",
        "    even_numbers = []\n",
        "\n",
        "    for num in numbers:\n",
        "        if num % 2 == 0:\n",
        "            even_numbers.append(num)\n",
        "\n",
        "    return even_numbers\n",
        "\n",
        "# Take user input for the list of numbers\n",
        "user_input = input(\"Enter a list of numbers separated by spaces: \")\n",
        "numbers = list(map(int, user_input.split()))\n",
        "\n",
        "# Get the list of even numbers\n",
        "even_numbers = get_even_numbers(numbers)\n",
        "\n",
        "# Print the list of even numbers\n",
        "print(\"Even numbers:\", even_numbers)\n"
      ],
      "metadata": {
        "colab": {
          "base_uri": "https://localhost:8080/"
        },
        "id": "2IHk5QoJ7Wax",
        "outputId": "9457805c-a7f0-4af9-b7cd-a755b4de6134"
      },
      "execution_count": 16,
      "outputs": [
        {
          "output_type": "stream",
          "name": "stdout",
          "text": [
            "Enter a list of numbers separated by spaces: 4 3 2 6 1 5 7 \n",
            "Even numbers: [4, 2, 6]\n"
          ]
        }
      ]
    }
  ]
}