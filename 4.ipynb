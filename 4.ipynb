{
  "nbformat": 4,
  "nbformat_minor": 0,
  "metadata": {
    "colab": {
      "provenance": []
    },
    "kernelspec": {
      "name": "python3",
      "display_name": "Python 3"
    },
    "language_info": {
      "name": "python"
    }
  },
  "cells": [
    {
      "cell_type": "markdown",
      "source": [
        "**4. Write a function that takes a string as input and returns the reverse of the string.**"
      ],
      "metadata": {
        "id": "ITmWlMwm7UMd"
      }
    },
    {
      "cell_type": "code",
      "source": [
        "def reverse_string(input_string):\n",
        "    return input_string[::-1]\n",
        "#input_string is the original string that we want to reverse.\n",
        "#[::-1] is the slicing syntax in Python that specifies the range of indices to extract from the string.\n",
        "#In this case, [::-1] indicates that we want to start from the end of the string and move backward with a step size of -1, effectively reversing the string.\n",
        "\n",
        "# Take user input for the string\n",
        "user_string = input(\"Enter a string: \")\n",
        "\n",
        "# Get the reverse of the string\n",
        "reversed_string = reverse_string(user_string)\n",
        "\n",
        "# Print the reversed string\n",
        "print(reversed_string)\n"
      ],
      "metadata": {
        "colab": {
          "base_uri": "https://localhost:8080/"
        },
        "id": "2IHk5QoJ7Wax",
        "outputId": "23ccd53c-b5ec-4879-eea0-63f37b659d35"
      },
      "execution_count": 6,
      "outputs": [
        {
          "output_type": "stream",
          "name": "stdout",
          "text": [
            "Enter a string: Hello, World!\n",
            "!dlroW ,olleH\n"
          ]
        }
      ]
    }
  ]
}