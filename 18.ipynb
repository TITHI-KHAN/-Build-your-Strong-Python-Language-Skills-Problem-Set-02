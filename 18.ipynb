{
  "nbformat": 4,
  "nbformat_minor": 0,
  "metadata": {
    "colab": {
      "provenance": []
    },
    "kernelspec": {
      "name": "python3",
      "display_name": "Python 3"
    },
    "language_info": {
      "name": "python"
    }
  },
  "cells": [
    {
      "cell_type": "markdown",
      "source": [
        "**18. Write a function to reverse the order of words in a given sentence.**"
      ],
      "metadata": {
        "id": "ITmWlMwm7UMd"
      }
    },
    {
      "cell_type": "code",
      "source": [
        "def reverse_sentence(sentence):\n",
        "    # Split the sentence into words\n",
        "    words = sentence.split()\n",
        "\n",
        "    # Reverse the order of words\n",
        "    reversed_words = words[::-1]\n",
        "\n",
        "    # Join the reversed words to form a new sentence\n",
        "    reversed_sentence = ' '.join(reversed_words)\n",
        "#' ' is a space character enclosed in single quotes. It represents the delimiter that will be used to join the words together.\n",
        "#The join() method is called on the space character ' '. It is a string method in Python that concatenates the elements of a list into a single string, using the specified delimiter. In this case, the delimiter is a space.\n",
        "\n",
        "    return reversed_sentence\n",
        "\n",
        "# Take user input for the sentence\n",
        "user_input = input(\"Enter a sentence: \")\n",
        "\n",
        "# Reverse the order of words in the sentence\n",
        "reversed_sentence = reverse_sentence(user_input)\n",
        "\n",
        "# Print the reversed sentence\n",
        "print(\"Reversed sentence:\", reversed_sentence)\n"
      ],
      "metadata": {
        "colab": {
          "base_uri": "https://localhost:8080/"
        },
        "id": "2IHk5QoJ7Wax",
        "outputId": "a1e57a4f-9b4a-4d95-8eac-f219079fe5d3"
      },
      "execution_count": 31,
      "outputs": [
        {
          "output_type": "stream",
          "name": "stdout",
          "text": [
            "Enter a sentence: Hello world, how are you?\n",
            "Reversed sentence: you? are how world, Hello\n"
          ]
        }
      ]
    }
  ]
}