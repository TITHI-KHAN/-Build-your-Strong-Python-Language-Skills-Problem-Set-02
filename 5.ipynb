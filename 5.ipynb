{
  "nbformat": 4,
  "nbformat_minor": 0,
  "metadata": {
    "colab": {
      "provenance": []
    },
    "kernelspec": {
      "name": "python3",
      "display_name": "Python 3"
    },
    "language_info": {
      "name": "python"
    }
  },
  "cells": [
    {
      "cell_type": "markdown",
      "source": [
        "**5. Write a function that takes a list of numbers as input and returns the largest number in the list.**"
      ],
      "metadata": {
        "id": "ITmWlMwm7UMd"
      }
    },
    {
      "cell_type": "code",
      "source": [
        "def find_largest_number(numbers):\n",
        "    if not numbers:\n",
        "        return None\n",
        "\n",
        "    largest = numbers[0]\n",
        "\n",
        "    for num in numbers:\n",
        "        if num > largest:\n",
        "            largest = num\n",
        "\n",
        "    return largest\n",
        "\n",
        "# Take user input for the list of numbers\n",
        "user_input = input(\"Enter a list of numbers separated by spaces: \")\n",
        "numbers = list(map(int, user_input.split())) #The code converts the user input into a list of integers using split() and map().\n",
        "#user_input.split() splits the user input string at each space, creating a list of substrings.\n",
        "#map(int, user_input.split()) applies the int() function to each substring in the list.\n",
        "#This converts each substring from a string representation of a number to an actual integer.\n",
        "#Finally, list(map(int, user_input.split())) converts the resulting iterable from map() into a list.\n",
        "\n",
        "# Find the largest number in the list\n",
        "largest_number = find_largest_number(numbers)\n",
        "\n",
        "# Print the largest number\n",
        "print(\"The largest number is:\", largest_number)\n"
      ],
      "metadata": {
        "colab": {
          "base_uri": "https://localhost:8080/"
        },
        "id": "2IHk5QoJ7Wax",
        "outputId": "6268ee2b-60ad-4c2e-c652-01b2c9ad4766"
      },
      "execution_count": 8,
      "outputs": [
        {
          "output_type": "stream",
          "name": "stdout",
          "text": [
            "Enter a list of numbers separated by spaces: 4 2 9 5 1\n",
            "The largest number is: 9\n"
          ]
        }
      ]
    }
  ]
}