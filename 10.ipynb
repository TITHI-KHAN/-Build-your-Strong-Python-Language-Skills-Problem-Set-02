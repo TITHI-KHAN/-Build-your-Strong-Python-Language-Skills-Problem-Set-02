{
  "nbformat": 4,
  "nbformat_minor": 0,
  "metadata": {
    "colab": {
      "provenance": []
    },
    "kernelspec": {
      "name": "python3",
      "display_name": "Python 3"
    },
    "language_info": {
      "name": "python"
    }
  },
  "cells": [
    {
      "cell_type": "markdown",
      "source": [
        "**10. Write a function that takes a list of strings as input and returns a new list with the strings sorted in alphabetical order.**"
      ],
      "metadata": {
        "id": "ITmWlMwm7UMd"
      }
    },
    {
      "cell_type": "code",
      "source": [
        "def sort_strings(strings):\n",
        "    sorted_strings = sorted(strings)\n",
        "    return sorted_strings\n",
        "\n",
        "# Take user input for the list of strings\n",
        "user_input = input(\"Enter a list of strings separated by spaces: \")\n",
        "strings = user_input.split()\n",
        "\n",
        "# Sort the strings in alphabetical order\n",
        "sorted_strings = sort_strings(strings)\n",
        "\n",
        "# Print the sorted strings\n",
        "print(\"Sorted strings:\", sorted_strings)\n"
      ],
      "metadata": {
        "colab": {
          "base_uri": "https://localhost:8080/"
        },
        "id": "2IHk5QoJ7Wax",
        "outputId": "abc867ec-16f9-4576-bba8-692de3b4612b"
      },
      "execution_count": 22,
      "outputs": [
        {
          "output_type": "stream",
          "name": "stdout",
          "text": [
            "Enter a list of strings separated by spaces: apple cherry banana\n",
            "Sorted strings: ['apple', 'banana', 'cherry']\n"
          ]
        }
      ]
    }
  ]
}