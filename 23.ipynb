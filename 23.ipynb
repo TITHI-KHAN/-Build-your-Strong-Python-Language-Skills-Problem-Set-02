{
  "nbformat": 4,
  "nbformat_minor": 0,
  "metadata": {
    "colab": {
      "provenance": []
    },
    "kernelspec": {
      "name": "python3",
      "display_name": "Python 3"
    },
    "language_info": {
      "name": "python"
    }
  },
  "cells": [
    {
      "cell_type": "markdown",
      "source": [
        "**23. Write a function that takes a list of strings as input and returns the longest string in the list.**"
      ],
      "metadata": {
        "id": "ITmWlMwm7UMd"
      }
    },
    {
      "cell_type": "code",
      "source": [
        "def find_longest_string(string_list):\n",
        "    longest_string = \"\" #The variable longest_string is initialized as an empty string.\n",
        "\n",
        "    for string in string_list:\n",
        "        if len(string) > len(longest_string):\n",
        "            longest_string = string\n",
        "\n",
        "    return longest_string\n",
        "\n",
        "# Take user input for the list of strings\n",
        "user_input = input(\"Enter a list of strings separated by spaces: \")\n",
        "string_list = user_input.split()\n",
        "\n",
        "# Find the longest string\n",
        "longest_string = find_longest_string(string_list)\n",
        "\n",
        "# Print the longest string\n",
        "print(\"The longest string is:\", longest_string)\n"
      ],
      "metadata": {
        "colab": {
          "base_uri": "https://localhost:8080/"
        },
        "id": "2IHk5QoJ7Wax",
        "outputId": "0452fbe5-666f-4c77-dafa-a8179e3f667f"
      },
      "execution_count": 39,
      "outputs": [
        {
          "output_type": "stream",
          "name": "stdout",
          "text": [
            "Enter a list of strings separated by spaces: apple banana orange\n",
            "The longest string is: banana\n"
          ]
        }
      ]
    }
  ]
}