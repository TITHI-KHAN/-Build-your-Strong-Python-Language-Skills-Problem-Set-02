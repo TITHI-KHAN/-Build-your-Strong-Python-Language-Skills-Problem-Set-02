{
  "nbformat": 4,
  "nbformat_minor": 0,
  "metadata": {
    "colab": {
      "provenance": []
    },
    "kernelspec": {
      "name": "python3",
      "display_name": "Python 3"
    },
    "language_info": {
      "name": "python"
    }
  },
  "cells": [
    {
      "cell_type": "markdown",
      "source": [
        "**17. Write a function that takes a list of numbers as input and returns the second smallest number in the list.**"
      ],
      "metadata": {
        "id": "ITmWlMwm7UMd"
      }
    },
    {
      "cell_type": "code",
      "source": [
        "def find_second_smallest(numbers):\n",
        "    # Remove duplicates and sort the list\n",
        "    unique_numbers = sorted(set(numbers))\n",
        "\n",
        "    # Check if there are at least two unique numbers\n",
        "    if len(unique_numbers) < 2:\n",
        "        return None\n",
        "\n",
        "    # Return the second smallest number\n",
        "    return unique_numbers[1]\n",
        "\n",
        "# Take user input for the list of numbers\n",
        "user_input = input(\"Enter a list of numbers separated by spaces: \")\n",
        "numbers = list(map(float, user_input.split())) #will create a list of floating-point numbers using the map() function and float() to convert the user input into numeric values.\n",
        "#it will remove duplicates and sort the list of numbers using sorted() and set().\n",
        "\n",
        "# Find the second smallest number\n",
        "second_smallest = find_second_smallest(numbers)\n",
        "\n",
        "# Print the second smallest number\n",
        "if second_smallest is None:\n",
        "    print(\"There is no second smallest number in the list.\")\n",
        "else:\n",
        "    print(\"The second smallest number is:\", second_smallest)\n"
      ],
      "metadata": {
        "colab": {
          "base_uri": "https://localhost:8080/"
        },
        "id": "2IHk5QoJ7Wax",
        "outputId": "00b376b9-232e-4796-b573-7c3267d46203"
      },
      "execution_count": 30,
      "outputs": [
        {
          "output_type": "stream",
          "name": "stdout",
          "text": [
            "Enter a list of numbers separated by spaces: 5 3 8 1 2\n",
            "The second smallest number is: 2.0\n"
          ]
        }
      ]
    }
  ]
}