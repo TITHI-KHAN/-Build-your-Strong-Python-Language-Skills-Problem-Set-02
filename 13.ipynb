{
  "nbformat": 4,
  "nbformat_minor": 0,
  "metadata": {
    "colab": {
      "provenance": []
    },
    "kernelspec": {
      "name": "python3",
      "display_name": "Python 3"
    },
    "language_info": {
      "name": "python"
    }
  },
  "cells": [
    {
      "cell_type": "markdown",
      "source": [
        "**13. Write a function that takes a list of numbers as input and returns the sum of all the numbers.**"
      ],
      "metadata": {
        "id": "ITmWlMwm7UMd"
      }
    },
    {
      "cell_type": "code",
      "source": [
        "def calculate_sum(numbers):\n",
        "    total_sum = sum(numbers)\n",
        "    return total_sum\n",
        "\n",
        "# Take user input for the list of numbers\n",
        "user_input = input(\"Enter a list of numbers separated by spaces: \")\n",
        "numbers = list(map(float, user_input.split()))\n",
        "\n",
        "# Calculate the sum of the numbers\n",
        "sum_of_numbers = calculate_sum(numbers)\n",
        "\n",
        "# Print the sum of the numbers\n",
        "print(\"The sum of the numbers is:\", sum_of_numbers)\n"
      ],
      "metadata": {
        "colab": {
          "base_uri": "https://localhost:8080/"
        },
        "id": "2IHk5QoJ7Wax",
        "outputId": "09088182-cfac-48b4-dc4e-5c597e8d42a4"
      },
      "execution_count": 25,
      "outputs": [
        {
          "output_type": "stream",
          "name": "stdout",
          "text": [
            "Enter a list of numbers separated by spaces: 1.5 2.7 3.8 4.2\n",
            "The sum of the numbers is: 12.2\n"
          ]
        }
      ]
    }
  ]
}