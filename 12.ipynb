{
  "nbformat": 4,
  "nbformat_minor": 0,
  "metadata": {
    "colab": {
      "provenance": []
    },
    "kernelspec": {
      "name": "python3",
      "display_name": "Python 3"
    },
    "language_info": {
      "name": "python"
    }
  },
  "cells": [
    {
      "cell_type": "markdown",
      "source": [
        "**12. Write a function to calculate the Fibonacci series up to a given number.**"
      ],
      "metadata": {
        "id": "ITmWlMwm7UMd"
      }
    },
    {
      "cell_type": "code",
      "source": [
        "def fibonacci_series(n):\n",
        "    series = []\n",
        "    a, b = 0, 1\n",
        "\n",
        "    while a <= n:\n",
        "        series.append(a)\n",
        "        a, b = b, a + b\n",
        "\n",
        "    return series\n",
        "\n",
        "# Take user input for the number\n",
        "user_input = input(\"Enter a number: \")\n",
        "number = int(user_input)\n",
        "\n",
        "# Calculate the Fibonacci series up to the given number\n",
        "fibonacci_series = fibonacci_series(number)\n",
        "\n",
        "# Print the Fibonacci series\n",
        "print(\"Fibonacci series:\", fibonacci_series)\n"
      ],
      "metadata": {
        "colab": {
          "base_uri": "https://localhost:8080/"
        },
        "id": "2IHk5QoJ7Wax",
        "outputId": "925f40fb-ff3c-46dd-acd7-52a6e48a9c3b"
      },
      "execution_count": 24,
      "outputs": [
        {
          "output_type": "stream",
          "name": "stdout",
          "text": [
            "Enter a number: 50\n",
            "Fibonacci series: [0, 1, 1, 2, 3, 5, 8, 13, 21, 34]\n"
          ]
        }
      ]
    }
  ]
}