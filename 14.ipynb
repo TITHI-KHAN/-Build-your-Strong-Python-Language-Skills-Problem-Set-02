{
  "nbformat": 4,
  "nbformat_minor": 0,
  "metadata": {
    "colab": {
      "provenance": []
    },
    "kernelspec": {
      "name": "python3",
      "display_name": "Python 3"
    },
    "language_info": {
      "name": "python"
    }
  },
  "cells": [
    {
      "cell_type": "markdown",
      "source": [
        "**14. Write a function to find the maximum occurring character in a given string.**"
      ],
      "metadata": {
        "id": "ITmWlMwm7UMd"
      }
    },
    {
      "cell_type": "code",
      "source": [
        "def find_max_occurrence(input_string):\n",
        "    char_count = {} #an empty dictionary char_count is initialized. This dictionary will store the count of occurrences for each character in the input string.\n",
        "\n",
        "    # Count the occurrences of each character\n",
        "    for char in input_string:\n",
        "        if char in char_count:\n",
        "            char_count[char] += 1\n",
        "        else:\n",
        "            char_count[char] = 1\n",
        "#For each character, the code checks if it already exists in the char_count dictionary.\n",
        "#If it does, the count is incremented by 1.\n",
        "#Otherwise, a new key-value pair is added to the dictionary with the character as the key and an initial count of 1.\n",
        "\n",
        "\n",
        "    # Find the maximum occurring character\n",
        "    max_char = max(char_count, key=char_count.get)\n",
        "#After counting the occurrences of each character in the input string, the code uses the max() function to find the maximum occurring character.\n",
        "#The key parameter is set to char_count.get, which means the maximum character is determined based on the corresponding count value in the char_count dictionary.\n",
        "\n",
        "    return max_char\n",
        "\n",
        "# Take user input for the string\n",
        "user_input = input(\"Enter a string: \")\n",
        "\n",
        "# Find the maximum occurring character\n",
        "max_occurrence_char = find_max_occurrence(user_input)\n",
        "\n",
        "# Print the maximum occurring character\n",
        "print(\"The maximum occurring character is:\", max_occurrence_char)\n"
      ],
      "metadata": {
        "colab": {
          "base_uri": "https://localhost:8080/"
        },
        "id": "2IHk5QoJ7Wax",
        "outputId": "d9aca54e-5cb3-4071-8590-43b3cbfcff0f"
      },
      "execution_count": 26,
      "outputs": [
        {
          "output_type": "stream",
          "name": "stdout",
          "text": [
            "Enter a string: helLo worLd\n",
            "The maximum occurring character is: L\n"
          ]
        }
      ]
    }
  ]
}