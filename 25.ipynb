{
  "nbformat": 4,
  "nbformat_minor": 0,
  "metadata": {
    "colab": {
      "provenance": []
    },
    "kernelspec": {
      "name": "python3",
      "display_name": "Python 3"
    },
    "language_info": {
      "name": "python"
    }
  },
  "cells": [
    {
      "cell_type": "markdown",
      "source": [
        "**25. Write a function that takes a string as input and counts the frequency of each character.**"
      ],
      "metadata": {
        "id": "ITmWlMwm7UMd"
      }
    },
    {
      "cell_type": "code",
      "source": [
        "def count_character_frequency(input_string):\n",
        "    char_frequency = {} #an empty dictionary char_frequency is created to store the frequency of each character.\n",
        "\n",
        "    # Count the frequency of each character\n",
        "    for char in input_string:\n",
        "        if char in char_frequency:\n",
        "            char_frequency[char] += 1\n",
        "        else:\n",
        "            char_frequency[char] = 1\n",
        "\n",
        "#Inside the loop, the code checks if the char is already a key in the char_frequency dictionary using the in keyword.\n",
        "#If the character is already present, its frequency is incremented by 1 using the += operator.\n",
        "#If the character is not present, it is added as a key to the dictionary with a frequency of 1.\n",
        "\n",
        "    return char_frequency\n",
        "\n",
        "# Take user input for the string\n",
        "user_input = input(\"Enter a string: \")\n",
        "\n",
        "# Count the frequency of each character\n",
        "frequency = count_character_frequency(user_input)\n",
        "\n",
        "# Print the frequency of each character\n",
        "for char, count in frequency.items():\n",
        "    print(\"Character:\", char, \"Frequency:\", count)\n"
      ],
      "metadata": {
        "colab": {
          "base_uri": "https://localhost:8080/"
        },
        "id": "2IHk5QoJ7Wax",
        "outputId": "0fc0d09c-1428-4813-dd80-64d8e715d148"
      },
      "execution_count": 43,
      "outputs": [
        {
          "output_type": "stream",
          "name": "stdout",
          "text": [
            "Enter a string: Hello\n",
            "Character: H Frequency: 1\n",
            "Character: e Frequency: 1\n",
            "Character: l Frequency: 2\n",
            "Character: o Frequency: 1\n"
          ]
        }
      ]
    }
  ]
}