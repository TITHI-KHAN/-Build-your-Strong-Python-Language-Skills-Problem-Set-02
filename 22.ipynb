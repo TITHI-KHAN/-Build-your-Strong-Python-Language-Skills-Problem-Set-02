{
  "nbformat": 4,
  "nbformat_minor": 0,
  "metadata": {
    "colab": {
      "provenance": []
    },
    "kernelspec": {
      "name": "python3",
      "display_name": "Python 3"
    },
    "language_info": {
      "name": "python"
    }
  },
  "cells": [
    {
      "cell_type": "markdown",
      "source": [
        "**22. Write a function to find the second largest number in a given list.**"
      ],
      "metadata": {
        "id": "ITmWlMwm7UMd"
      }
    },
    {
      "cell_type": "code",
      "source": [
        "def find_second_largest(numbers):\n",
        "    # Make sure the list has at least two elements\n",
        "    if len(numbers) < 2:\n",
        "        return None\n",
        "\n",
        "    # Initialize the largest and second largest variables\n",
        "    largest = float('-inf')\n",
        "    second_largest = float('-inf')\n",
        "#The variables largest and second_largest are initialized with the value -inf, which stands for negative infinity.\n",
        "#By initializing them with -inf, we ensure that any number encountered in the list will be greater than -inf.\n",
        "#This way, during the iteration, the first encountered number will automatically become the largest, replacing -inf as the current largest.\n",
        "#Then, as we continue iterating, any subsequent number larger than the current largest will replace it, while the previous largest value gets assigned to second_largest.\n",
        "\n",
        "    # Find the largest and second largest numbers\n",
        "    for num in numbers:\n",
        "        if num > largest:\n",
        "            second_largest = largest\n",
        "            largest = num\n",
        "        elif num > second_largest and num != largest:\n",
        "            second_largest = num\n",
        "\n",
        "    # Return the second largest number\n",
        "    return second_largest\n",
        "\n",
        "# Take user input for the list of numbers\n",
        "user_input = input(\"Enter a list of numbers separated by spaces: \")\n",
        "numbers = list(map(int, user_input.split())) #will convert the input into a list of integers using list(map(int, user_input.split()))\n",
        "\n",
        "# Find the second largest number\n",
        "second_largest = find_second_largest(numbers)\n",
        "\n",
        "# Print the second largest number\n",
        "if second_largest is None:\n",
        "    print(\"The list should have at least two numbers.\")\n",
        "else:\n",
        "    print(\"The second largest number is:\", second_largest)\n"
      ],
      "metadata": {
        "colab": {
          "base_uri": "https://localhost:8080/"
        },
        "id": "2IHk5QoJ7Wax",
        "outputId": "3639614f-543b-4dff-fa84-35364c0c4747"
      },
      "execution_count": 38,
      "outputs": [
        {
          "output_type": "stream",
          "name": "stdout",
          "text": [
            "Enter a list of numbers separated by spaces: 5 2 8 3 1\n",
            "The second largest number is: 5\n"
          ]
        }
      ]
    }
  ]
}